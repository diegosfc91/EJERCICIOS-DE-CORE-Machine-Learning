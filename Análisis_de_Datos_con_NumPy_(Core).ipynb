{
  "nbformat": 4,
  "nbformat_minor": 0,
  "metadata": {
    "colab": {
      "provenance": [],
      "authorship_tag": "ABX9TyONqDs4OVAu0+BiJwChzID+",
      "include_colab_link": true
    },
    "kernelspec": {
      "name": "python3",
      "display_name": "Python 3"
    },
    "language_info": {
      "name": "python"
    }
  },
  "cells": [
    {
      "cell_type": "markdown",
      "metadata": {
        "id": "view-in-github",
        "colab_type": "text"
      },
      "source": [
        "<a href=\"https://colab.research.google.com/github/diegosfc91/Proyecto-I.-An-lisis-y-predicci-n-de-ventas-Part-1-Core-/blob/main/An%C3%A1lisis_de_Datos_con_NumPy_(Core).ipynb\" target=\"_parent\"><img src=\"https://colab.research.google.com/assets/colab-badge.svg\" alt=\"Open In Colab\"/></a>"
      ]
    },
    {
      "cell_type": "code",
      "execution_count": null,
      "metadata": {
        "colab": {
          "base_uri": "https://localhost:8080/"
        },
        "id": "Hd-i0a52Ofj2",
        "outputId": "50264f9a-7aee-40a5-ed9a-12728824a780"
      },
      "outputs": [
        {
          "output_type": "stream",
          "name": "stdout",
          "text": [
            "[[[15 17 93]\n",
            "  [26 14 77]]\n",
            "\n",
            " [[70 68  6]\n",
            "  [18  2 40]]\n",
            "\n",
            " [[93 58 24]\n",
            "  [58 25 98]]]\n",
            "Resumen de Ventas:\n",
            "--------------------------------------------------\n",
            "Total de ventas por producto a lo largo de la semana: [242 204 356]\n",
            "Total de ventas por tienda a lo largo de la semana: [444 358]\n",
            "Promedio de ventas por producto por día: [40.33333333 34.         59.33333333]\n",
            "Promedio de ventas por tienda por día: [49.33333333 39.77777778]\n",
            "Producto con mayor ventas: Producto 2\n",
            "Producto con menor ventas: Producto 1\n",
            "Tienda con mayor ventas: Tienda 0\n",
            "Tienda con menor ventas: Tienda 1\n",
            "--------------------------------------------------\n"
          ]
        }
      ],
      "source": [
        "import numpy as np\n",
        "\n",
        "# Definición de funciones\n",
        "\n",
        "def generar_datos_ventas(productos, tiendas, dias):\n",
        "   # Genera datos de ventas aleatorias para el número de productos, tiendas y días especificados\n",
        "    return np.random.randint(0, 101, (productos, tiendas, dias))\n",
        "\n",
        "def calcular_totales_ventas_por_producto(datos):\n",
        "    \"\"\"Calcula el total de ventas por producto a lo largo de la semana.\"\"\"\n",
        "    return np.sum(datos, axis=(1, 2))\n",
        "\n",
        "def calcular_totales_ventas_por_tienda(datos):\n",
        "    \"\"\"Calcula el total de ventas por tienda a lo largo de la semana.\"\"\"\n",
        "    return np.sum(datos, axis=(0, 2))\n",
        "\n",
        "def calcular_promedio_ventas_por_producto(datos):\n",
        "    \"\"\"Calcula el promedio de ventas por producto por día.\"\"\"\n",
        "    return np.mean(datos, axis=(1, 2))\n",
        "\n",
        "def calcular_promedio_ventas_por_tienda(datos):\n",
        "    \"\"\"Calcula el promedio de ventas por tienda por día.\"\"\"\n",
        "    return np.mean(datos, axis=(0, 2))\n",
        "\n",
        "def encontrar_producto_mayor_menor_ventas(totales_por_producto):\n",
        "    \"\"\"Encuentra el producto con mayor y menor ventas totales en la semana.\"\"\"\n",
        "    producto_mayor_ventas = np.argmax(totales_por_producto)\n",
        "    producto_menor_ventas = np.argmin(totales_por_producto)\n",
        "    return producto_mayor_ventas, producto_menor_ventas\n",
        "\n",
        "def encontrar_tienda_mayor_menor_ventas(totales_por_tienda):\n",
        "    \"\"\"Encuentra la tienda con mayor y menor ventas totales en la semana.\"\"\"\n",
        "    tienda_mayor_ventas = np.argmax(totales_por_tienda)\n",
        "    tienda_menor_ventas = np.argmin(totales_por_tienda)\n",
        "    return tienda_mayor_ventas, tienda_menor_ventas\n",
        "\n",
        "def imprimir_resumen(totales_por_producto, totales_por_tienda, promedio_por_producto, promedio_por_tienda,\n",
        "                     producto_mayor_ventas, producto_menor_ventas, tienda_mayor_ventas, tienda_menor_ventas):\n",
        "    \"\"\"Imprime un resumen de las ventas.\"\"\"\n",
        "    print(\"Resumen de Ventas:\")\n",
        "    print(\"-\" * 50)\n",
        "    print(\"Total de ventas por producto a lo largo de la semana:\", totales_por_producto)\n",
        "    print(\"Total de ventas por tienda a lo largo de la semana:\", totales_por_tienda)\n",
        "    print(\"Promedio de ventas por producto por día:\", promedio_por_producto)\n",
        "    print(\"Promedio de ventas por tienda por día:\", promedio_por_tienda)\n",
        "    print(f\"Producto con mayor ventas: Producto {producto_mayor_ventas}\")\n",
        "    print(f\"Producto con menor ventas: Producto {producto_menor_ventas}\")\n",
        "    print(f\"Tienda con mayor ventas: Tienda {tienda_mayor_ventas}\")\n",
        "    print(f\"Tienda con menor ventas: Tienda {tienda_menor_ventas}\")\n",
        "    print(\"-\" * 50)\n",
        "\n",
        "# Parámetros\n",
        "productos = 10\n",
        "tiendas = 7\n",
        "dias = 5\n",
        "\n",
        "# Generación de los datos de ventas\n",
        "datos = generar_datos_ventas(productos, tiendas, dias)\n",
        "print(datos)\n",
        "# Cálculo de los totales y promedios\n",
        "totales_por_producto = calcular_totales_ventas_por_producto(datos)\n",
        "totales_por_tienda = calcular_totales_ventas_por_tienda(datos)\n",
        "promedio_por_producto = calcular_promedio_ventas_por_producto(datos)\n",
        "promedio_por_tienda = calcular_promedio_ventas_por_tienda(datos)\n",
        "\n",
        "# Encuentra el producto y la tienda con mayor y menor ventas\n",
        "producto_mayor_ventas, producto_menor_ventas = encontrar_producto_mayor_menor_ventas(totales_por_producto)\n",
        "tienda_mayor_ventas, tienda_menor_ventas = encontrar_tienda_mayor_menor_ventas(totales_por_tienda)\n",
        "\n",
        "# Imprimir los resultados\n",
        "imprimir_resumen(totales_por_producto, totales_por_tienda, promedio_por_producto, promedio_por_tienda,\n",
        "                 producto_mayor_ventas, producto_menor_ventas, tienda_mayor_ventas, tienda_menor_ventas)\n"
      ]
    }
  ]
}