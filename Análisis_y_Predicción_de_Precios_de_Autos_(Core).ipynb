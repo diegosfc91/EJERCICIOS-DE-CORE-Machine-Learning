{
  "nbformat": 4,
  "nbformat_minor": 0,
  "metadata": {
    "colab": {
      "provenance": [],
      "authorship_tag": "ABX9TyMgsHhslgpm2GessoD++QtS",
      "include_colab_link": true
    },
    "kernelspec": {
      "name": "python3",
      "display_name": "Python 3"
    },
    "language_info": {
      "name": "python"
    }
  },
  "cells": [
    {
      "cell_type": "markdown",
      "metadata": {
        "id": "view-in-github",
        "colab_type": "text"
      },
      "source": [
        "<a href=\"https://colab.research.google.com/github/diegosfc91/EJERCICIOS-DE-CORE-Machine-Learning/blob/main/An%C3%A1lisis_y_Predicci%C3%B3n_de_Precios_de_Autos_(Core).ipynb\" target=\"_parent\"><img src=\"https://colab.research.google.com/assets/colab-badge.svg\" alt=\"Open In Colab\"/></a>"
      ]
    },
    {
      "cell_type": "markdown",
      "source": [
        "# Modelos Basados en Arbol"
      ],
      "metadata": {
        "id": "511-GR6eMO8Q"
      }
    },
    {
      "cell_type": "code",
      "execution_count": null,
      "metadata": {
        "id": "j7RVcapkMFli"
      },
      "outputs": [],
      "source": [
        "from sklearn.impute import SimpleImputer\n",
        "from sklearn.model_selection import train_test_split\n",
        "from sklearn.preprocessing import OneHotEncoder, StandardScaler\n",
        "import pandas as pd\n",
        "import numpy as np\n",
        "\n",
        "# Cargar datos desde un archivo CSV\n",
        "df = pd.read_csv('/content/Automobile_data.csv')\n",
        "\n",
        "# Reemplazar valores faltantes representados como '?' por NaN\n",
        "df.replace('?', np.nan, inplace=True)\n",
        "\n",
        "\n",
        "# Separar las columnas numéricas y categóricas\n",
        "numeric_cols = df.select_dtypes(include=['float64', 'int64']).columns\n",
        "categorical_cols = df.select_dtypes(include=['object']).columns\n",
        "\n",
        "## Para columnas numéricas: Reemplazar valores faltantes con la media\n",
        "imputer_num = SimpleImputer(strategy='mean')\n",
        "df[numeric_cols] = imputer_num.fit_transform(df[numeric_cols])\n",
        "\n",
        "## Para columnas categóricas: Reemplazar valores faltantes con el valor más frecuente\n",
        "imputer_cat = SimpleImputer(strategy='most_frequent')\n",
        "df[categorical_cols] = imputer_cat.fit_transform(df[categorical_cols])\n",
        "\n",
        "\n",
        "## Suponiendo que 'price' es la variable objetivo\n",
        "df['price'] = pd.to_numeric(df['price'], errors='coerce')  # Asegurar que 'price' sea numérica\n",
        "X = df.drop(columns=['price'])\n",
        "y = df['price']\n",
        "\n",
        "## Crear el codificador y transformar las columnas categóricas\n",
        "encoder = OneHotEncoder(drop='first', sparse_output=False)  # Evitar multicolinealidad\n",
        "X_categorical_encoded = pd.DataFrame(\n",
        "    encoder.fit_transform(df[categorical_cols]),\n",
        "    columns=encoder.get_feature_names_out(categorical_cols)\n",
        ")\n",
        "\n",
        "## Mantener columnas numéricas como están\n",
        "X_numeric = X[numeric_cols].reset_index(drop=True)\n",
        "\n",
        "## Combinar numéricas y categóricas transformadas\n",
        "X_transformed = pd.concat([X_numeric, X_categorical_encoded], axis=1)\n",
        "\n",
        "# Dividir los datos en conjuntos de entrenamiento y prueba\n",
        "X_train, X_test, y_train, y_test = train_test_split(X_transformed, y, test_size=0.2, random_state=43)\n",
        "\n",
        "# Escalar las características numéricas usando StandardScaler\n",
        "scaler = StandardScaler()\n",
        "\n",
        "## Ajustar y transformar el conjunto de entrenamiento\n",
        "X_train_scaled = scaler.fit_transform(X_train)\n",
        "\n",
        "## Transformar el conjunto de prueba\n",
        "X_test_scaled = scaler.transform(X_test)\n"
      ]
    },
    {
      "cell_type": "markdown",
      "source": [
        "# Regresión Lineal:"
      ],
      "metadata": {
        "id": "Eo39QT_cyW18"
      }
    },
    {
      "cell_type": "code",
      "source": [
        "from sklearn.linear_model import LinearRegression\n",
        "from sklearn.metrics import mean_squared_error, r2_score\n",
        "\n",
        "# Paso 1: Entrenar el modelo de Regresión Lineal\n",
        "model = LinearRegression()\n",
        "model.fit(X_train_scaled, y_train)\n",
        "\n",
        "# Paso 2: Realizar predicciones en el conjunto de prueba\n",
        "y_pred = model.predict(X_test_scaled)\n",
        "\n",
        "# Paso 3: Evaluar el rendimiento del modelo\n",
        "mse = mean_squared_error(y_test, y_pred)  # Error cuadrático medio\n",
        "r2 = r2_score(y_test, y_pred)            # Coeficiente de determinación\n",
        "\n",
        "# Paso 4: Mostrar los resultados\n",
        "print(\"Evaluación del Modelo de Regresión Lineal:\")\n",
        "print(f\"Mean Squared Error (MSE): {mse:.2f}\")\n",
        "print(f\"Coeficiente de Determinación (R²): {r2:.2f}\")\n",
        "\n",
        "root_mse = np.sqrt(mse)\n",
        "print(f\"Root Mean Squared Error (RMSE): {root_mse:.2f}\")\n",
        "print(\"\")\n",
        "\n",
        "# Calcular el promedio de la columna 'price'\n",
        "average_price = df['price'].mean()\n",
        "\n",
        "# Mostrar el promedio\n",
        "print(f\"El promedio de los valores en la columna 'price' es: {average_price:.2f}\")\n",
        "print(\"\")\n",
        "\n",
        "max_price = df['price'].max()\n",
        "min_price = df['price'].min()\n",
        "\n",
        "# Mostrar los resultados\n",
        "print(f\"El mayor valor en la columna 'price' es: {max_price:.2f}\")\n",
        "print(f\"El menor valor en la columna 'price' es: {min_price:.2f}\")"
      ],
      "metadata": {
        "colab": {
          "base_uri": "https://localhost:8080/"
        },
        "id": "OmFUAxLTu8Xm",
        "outputId": "bb051984-b87c-450e-e019-f416122abfad"
      },
      "execution_count": null,
      "outputs": [
        {
          "output_type": "stream",
          "name": "stdout",
          "text": [
            "Evaluación del Modelo de Regresión Lineal:\n",
            "Mean Squared Error (MSE): 6752945.75\n",
            "Coeficiente de Determinación (R²): 0.80\n",
            "Root Mean Squared Error (RMSE): 2598.64\n",
            "\n",
            "El promedio de los valores en la columna 'price' es: 13212.82\n",
            "\n",
            "El mayor valor en la columna 'price' es: 45400.00\n",
            "El menor valor en la columna 'price' es: 5118.00\n"
          ]
        }
      ]
    },
    {
      "cell_type": "markdown",
      "source": [
        "# 4. K-Nearest Neighbors (KNN)"
      ],
      "metadata": {
        "id": "eBAkQCEU9rt4"
      }
    },
    {
      "cell_type": "code",
      "source": [
        "from sklearn.neighbors import KNeighborsRegressor\n",
        "from sklearn.metrics import mean_squared_error, r2_score\n",
        "\n",
        "# Paso 1: Crear y entrenar el modelo KNN\n",
        "k = 5  # Número de vecinos\n",
        "knn_model = KNeighborsRegressor(n_neighbors=k)\n",
        "knn_model.fit(X_train_scaled, y_train)\n",
        "\n",
        "# Paso 2: Realizar predicciones en el conjunto de prueba\n",
        "y_pred_knn = knn_model.predict(X_test_scaled)\n",
        "\n",
        "# Paso 3: Evaluar el rendimiento del modelo\n",
        "mse_knn = mean_squared_error(y_test, y_pred_knn)  # Error cuadrático medio\n",
        "r2_knn = r2_score(y_test, y_pred_knn)            # Coeficiente de determinación\n",
        "\n",
        "# Paso 4: Mostrar los resultados\n",
        "print(f\"Evaluación del Modelo K-Nearest Neighbors (KNN) con k={k}:\")\n",
        "print(f\"Mean Squared Error (MSE): {mse_knn:.2f}\")\n",
        "print(f\"Coeficiente de Determinación (R²): {r2_knn:.2f}\")\n",
        "\n",
        "root_mse = np.sqrt(mse_knn)\n",
        "print(f\"Root Mean Squared Error (RMSE): {root_mse:.2f}\")\n",
        "print(\"\")\n",
        "\n",
        "\n",
        "# Calcular el promedio de la columna 'price'\n",
        "average_price = df['price'].mean()\n",
        "\n",
        "# Mostrar el promedio\n",
        "print(f\"El promedio de los valores en la columna 'price' es: {average_price:.2f}\")\n",
        "print(\"\")\n",
        "\n",
        "max_price = df['price'].max()\n",
        "min_price = df['price'].min()\n",
        "\n",
        "# Mostrar los resultados\n",
        "print(f\"El mayor valor en la columna 'price' es: {max_price:.2f}\")\n",
        "print(f\"El menor valor en la columna 'price' es: {min_price:.2f}\")\n"
      ],
      "metadata": {
        "colab": {
          "base_uri": "https://localhost:8080/"
        },
        "id": "5ouOfmPv9vq7",
        "outputId": "6ee85a79-1fa7-4f3f-c9ed-67a45add7718"
      },
      "execution_count": null,
      "outputs": [
        {
          "output_type": "stream",
          "name": "stdout",
          "text": [
            "Evaluación del Modelo K-Nearest Neighbors (KNN) con k=5:\n",
            "Mean Squared Error (MSE): 17826944.04\n",
            "Coeficiente de Determinación (R²): 0.46\n",
            "Root Mean Squared Error (RMSE): 4222.20\n",
            "\n",
            "El promedio de los valores en la columna 'price' es: 13212.82\n",
            "\n",
            "El mayor valor en la columna 'price' es: 45400.00\n",
            "El menor valor en la columna 'price' es: 5118.00\n"
          ]
        }
      ]
    },
    {
      "cell_type": "markdown",
      "source": [
        "# Arbol de decision"
      ],
      "metadata": {
        "id": "SqZNzHIs_qHN"
      }
    },
    {
      "cell_type": "code",
      "source": [
        "from sklearn.tree import DecisionTreeRegressor\n",
        "from sklearn.metrics import mean_squared_error, r2_score\n",
        "\n",
        "# Paso 1: Crear y entrenar el modelo de Árbol de Decisión\n",
        "decision_tree_model = DecisionTreeRegressor(random_state=43)  # Puedes ajustar el random_state para reproducibilidad\n",
        "decision_tree_model.fit(X_train_scaled, y_train)\n",
        "\n",
        "# Paso 2: Realizar predicciones en el conjunto de prueba\n",
        "y_pred_tree = decision_tree_model.predict(X_test_scaled)\n",
        "\n",
        "# Paso 3: Evaluar el rendimiento del modelo\n",
        "mse_tree = mean_squared_error(y_test, y_pred_tree)  # Error cuadrático medio\n",
        "r2_tree = r2_score(y_test, y_pred_tree)             # Coeficiente de determinación\n",
        "\n",
        "# Paso 4: Mostrar los resultados\n",
        "print(\"Evaluación del Modelo de Árbol de Decisión:\")\n",
        "print(f\"Mean Squared Error (MSE): {mse_tree:.2f}\")\n",
        "print(f\"Coeficiente de Determinación (R²): {r2_tree:.2f}\")\n",
        "\n",
        "\n",
        "root_mse = np.sqrt(mse_tree)\n",
        "print(f\"Root Mean Squared Error (RMSE): {root_mse:.2f}\")\n",
        "print(\"\")\n",
        "\n",
        "\n",
        "# Calcular el promedio de la columna 'price'\n",
        "average_price = df['price'].mean()\n",
        "\n",
        "# Mostrar el promedio\n",
        "print(f\"El promedio de los valores en la columna 'price' es: {average_price:.2f}\")\n",
        "print(\"\")\n",
        "\n",
        "max_price = df['price'].max()\n",
        "min_price = df['price'].min()\n",
        "\n",
        "# Mostrar los resultados\n",
        "print(f\"El mayor valor en la columna 'price' es: {max_price:.2f}\")\n",
        "print(f\"El menor valor en la columna 'price' es: {min_price:.2f}\")\n"
      ],
      "metadata": {
        "colab": {
          "base_uri": "https://localhost:8080/"
        },
        "id": "88-kGs9J_s1R",
        "outputId": "f1a4fbf7-1032-4497-dd35-bb66594c8842"
      },
      "execution_count": null,
      "outputs": [
        {
          "output_type": "stream",
          "name": "stdout",
          "text": [
            "Evaluación del Modelo de Árbol de Decisión:\n",
            "Mean Squared Error (MSE): 23165453.76\n",
            "Coeficiente de Determinación (R²): 0.30\n",
            "Root Mean Squared Error (RMSE): 4813.05\n",
            "\n",
            "El promedio de los valores en la columna 'price' es: 13212.82\n",
            "\n",
            "El mayor valor en la columna 'price' es: 45400.00\n",
            "El menor valor en la columna 'price' es: 5118.00\n"
          ]
        }
      ]
    },
    {
      "cell_type": "markdown",
      "source": [
        "# Explicacion de modelos]\n",
        "\n",
        "Interpretación de la Comparación:\n",
        "MSE (Mean Squared Error):\n",
        "El modelo con el MSE más bajo tiene las predicciones más precisas.\n",
        "R² (Coeficiente de Determinación):\n",
        "El modelo con el R² más cercano a 1 explica mejor la varianza de los datos.\n",
        "\n",
        "El mas bajo es la regresion lineal"
      ],
      "metadata": {
        "id": "w8iYkR5HBKO_"
      }
    }
  ]
}