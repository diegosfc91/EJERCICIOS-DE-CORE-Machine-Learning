{
  "nbformat": 4,
  "nbformat_minor": 0,
  "metadata": {
    "colab": {
      "provenance": [],
      "authorship_tag": "ABX9TyPQxLHYRnwFmPZ+2/byfLYd",
      "include_colab_link": true
    },
    "kernelspec": {
      "name": "python3",
      "display_name": "Python 3"
    },
    "language_info": {
      "name": "python"
    }
  },
  "cells": [
    {
      "cell_type": "markdown",
      "metadata": {
        "id": "view-in-github",
        "colab_type": "text"
      },
      "source": [
        "<a href=\"https://colab.research.google.com/github/diegosfc91/EJERCICIOS-DE-CORE-Machine-Learning/blob/main/Modelos_basados_en_%C3%A1rbol_Predicci%C3%B3n_de_Precios_de_Veh%C3%ADculos_Usados_(Core).ipynb\" target=\"_parent\"><img src=\"https://colab.research.google.com/assets/colab-badge.svg\" alt=\"Open In Colab\"/></a>"
      ]
    },
    {
      "cell_type": "markdown",
      "source": [
        "# Modelos Basados en Arbol"
      ],
      "metadata": {
        "id": "511-GR6eMO8Q"
      }
    },
    {
      "cell_type": "code",
      "execution_count": 2,
      "metadata": {
        "id": "j7RVcapkMFli"
      },
      "outputs": [],
      "source": [
        "from sklearn.impute import SimpleImputer\n",
        "from sklearn.model_selection import train_test_split\n",
        "from sklearn.preprocessing import OneHotEncoder, StandardScaler\n",
        "import pandas as pd\n",
        "import numpy as np\n",
        "\n",
        "# Cargar datos desde un archivo CSV\n",
        "df = pd.read_csv('/content/Automobile_data.csv')\n",
        "\n",
        "# Reemplazar valores faltantes representados como '?' por NaN\n",
        "df.replace('?', np.nan, inplace=True)\n",
        "\n",
        "\n",
        "# Separar las columnas numéricas y categóricas\n",
        "numeric_cols = df.select_dtypes(include=['float64', 'int64']).columns\n",
        "categorical_cols = df.select_dtypes(include=['object']).columns\n",
        "\n",
        "## Para columnas numéricas: Reemplazar valores faltantes con la media\n",
        "imputer_num = SimpleImputer(strategy='mean')\n",
        "df[numeric_cols] = imputer_num.fit_transform(df[numeric_cols])\n",
        "\n",
        "## Para columnas categóricas: Reemplazar valores faltantes con el valor más frecuente\n",
        "imputer_cat = SimpleImputer(strategy='most_frequent')\n",
        "df[categorical_cols] = imputer_cat.fit_transform(df[categorical_cols])\n",
        "\n",
        "\n",
        "## Suponiendo que 'price' es la variable objetivo\n",
        "df['price'] = pd.to_numeric(df['price'], errors='coerce')  # Asegurar que 'price' sea numérica\n",
        "X = df.drop(columns=['price'])\n",
        "y = df['price']\n",
        "\n",
        "## Crear el codificador y transformar las columnas categóricas\n",
        "encoder = OneHotEncoder(drop='first', sparse_output=False)  # Evitar multicolinealidad\n",
        "X_categorical_encoded = pd.DataFrame(\n",
        "    encoder.fit_transform(df[categorical_cols]),\n",
        "    columns=encoder.get_feature_names_out(categorical_cols)\n",
        ")\n",
        "\n",
        "## Mantener columnas numéricas como están\n",
        "X_numeric = X[numeric_cols].reset_index(drop=True)\n",
        "\n",
        "## Combinar numéricas y categóricas transformadas\n",
        "X_transformed = pd.concat([X_numeric, X_categorical_encoded], axis=1)\n",
        "\n",
        "# Dividir los datos en conjuntos de entrenamiento y prueba\n",
        "X_train, X_test, y_train, y_test = train_test_split(X_transformed, y, test_size=0.2, random_state=43)\n",
        "\n",
        "# Escalar las características numéricas usando StandardScaler\n",
        "scaler = StandardScaler()\n",
        "\n",
        "## Ajustar y transformar el conjunto de entrenamiento\n",
        "X_train_scaled = scaler.fit_transform(X_train)\n",
        "\n",
        "## Transformar el conjunto de prueba\n",
        "X_test_scaled = scaler.transform(X_test)\n"
      ]
    },
    {
      "cell_type": "markdown",
      "source": [
        "# Regresión Lineal:"
      ],
      "metadata": {
        "id": "Eo39QT_cyW18"
      }
    },
    {
      "cell_type": "code",
      "source": [
        "from sklearn.linear_model import LinearRegression\n",
        "from sklearn.metrics import mean_squared_error, r2_score\n",
        "\n",
        "# Paso 1: Entrenar el modelo de Regresión Lineal\n",
        "model = LinearRegression()\n",
        "model.fit(X_train_scaled, y_train)\n",
        "\n",
        "# Paso 2: Realizar predicciones en el conjunto de prueba\n",
        "y_pred = model.predict(X_test_scaled)\n",
        "\n",
        "# Paso 3: Evaluar el rendimiento del modelo\n",
        "mse = mean_squared_error(y_test, y_pred)  # Error cuadrático medio\n",
        "r2 = r2_score(y_test, y_pred)            # Coeficiente de determinación\n",
        "\n",
        "# Paso 4: Mostrar los resultados\n",
        "print(\"Evaluación del Modelo de Regresión Lineal:\")\n",
        "print(f\"Mean Squared Error (MSE): {mse:.2f}\")\n",
        "print(f\"Coeficiente de Determinación (R²): {r2:.2f}\")\n",
        "\n",
        "root_mse = np.sqrt(mse)\n",
        "print(f\"Root Mean Squared Error (RMSE): {root_mse:.2f}\")\n",
        "print(\"\")\n",
        "\n",
        "# Calcular el promedio de la columna 'price'\n",
        "average_price = df['price'].mean()\n",
        "\n",
        "# Mostrar el promedio\n",
        "print(f\"El promedio de los valores en la columna 'price' es: {average_price:.2f}\")\n",
        "print(\"\")\n",
        "\n",
        "max_price = df['price'].max()\n",
        "min_price = df['price'].min()\n",
        "\n",
        "# Mostrar los resultados\n",
        "print(f\"El mayor valor en la columna 'price' es: {max_price:.2f}\")\n",
        "print(f\"El menor valor en la columna 'price' es: {min_price:.2f}\")"
      ],
      "metadata": {
        "colab": {
          "base_uri": "https://localhost:8080/"
        },
        "id": "OmFUAxLTu8Xm",
        "outputId": "bb051984-b87c-450e-e019-f416122abfad"
      },
      "execution_count": null,
      "outputs": [
        {
          "output_type": "stream",
          "name": "stdout",
          "text": [
            "Evaluación del Modelo de Regresión Lineal:\n",
            "Mean Squared Error (MSE): 6752945.75\n",
            "Coeficiente de Determinación (R²): 0.80\n",
            "Root Mean Squared Error (RMSE): 2598.64\n",
            "\n",
            "El promedio de los valores en la columna 'price' es: 13212.82\n",
            "\n",
            "El mayor valor en la columna 'price' es: 45400.00\n",
            "El menor valor en la columna 'price' es: 5118.00\n"
          ]
        }
      ]
    },
    {
      "cell_type": "markdown",
      "source": [
        "# Random Forest Regressor"
      ],
      "metadata": {
        "id": "ajzi_SjZH9vS"
      }
    },
    {
      "cell_type": "code",
      "source": [
        "from sklearn.ensemble import RandomForestRegressor\n",
        "from sklearn.metrics import mean_squared_error, r2_score\n",
        "from sklearn.model_selection import GridSearchCV\n",
        "import numpy as np\n",
        "\n",
        "# 1. Implementar y evaluar Random Forest Regressor\n",
        "rf_model = RandomForestRegressor(random_state=43)\n",
        "rf_model.fit(X_train_scaled, y_train)\n",
        "y_pred_rf = rf_model.predict(X_test_scaled)\n",
        "\n",
        "# Calcular métricas para Random Forest\n",
        "mse_rf = mean_squared_error(y_test, y_pred_rf)\n",
        "rmse_rf = np.sqrt(mse_rf)  # Raíz del MSE\n",
        "r2_rf = r2_score(y_test, y_pred_rf)\n",
        "\n",
        "# Resultados iniciales para Random Forest\n",
        "print(\"Random Forest Regressor:\")\n",
        "print(f\"  MSE: {mse_rf:.2f}\")\n",
        "print(f\"  RMSE: {rmse_rf:.2f}\")\n",
        "print(f\"  R²: {r2_rf:.2f}\")\n"
      ],
      "metadata": {
        "colab": {
          "base_uri": "https://localhost:8080/"
        },
        "id": "Ob5JjxUDIBUf",
        "outputId": "c44329d3-5995-4a4a-f1b9-074e52c5ff63"
      },
      "execution_count": 3,
      "outputs": [
        {
          "output_type": "stream",
          "name": "stdout",
          "text": [
            "Random Forest Regressor:\n",
            "  MSE: 19313572.98\n",
            "  RMSE: 4394.72\n",
            "  R²: 0.41\n"
          ]
        }
      ]
    },
    {
      "cell_type": "markdown",
      "source": [
        "# Optimizacion"
      ],
      "metadata": {
        "id": "3y-t0PuxKfkF"
      }
    },
    {
      "cell_type": "code",
      "source": [
        "from sklearn.ensemble import RandomForestRegressor\n",
        "from sklearn.metrics import mean_squared_error, r2_score\n",
        "from sklearn.model_selection import GridSearchCV\n",
        "import numpy as np\n",
        "\n",
        "# Definir la cuadrícula de hiperparámetros para GridSearchCV\n",
        "param_grid = {\n",
        "    'n_estimators': [50, 100, 200],        # Número de árboles en el bosque\n",
        "    'max_depth': [None, 10, 20, 30],      # Profundidad máxima de los árboles\n",
        "    'min_samples_split': [2, 5, 10],      # Muestras mínimas para dividir un nodo\n",
        "    'min_samples_leaf': [1, 2, 4]         # Muestras mínimas en cada hoja\n",
        "}\n",
        "\n",
        "# Crear el objeto GridSearchCV\n",
        "grid_search = GridSearchCV(\n",
        "    estimator=RandomForestRegressor(random_state=43),\n",
        "    param_grid=param_grid,\n",
        "    scoring='r2',       # Usar R² como métrica de evaluación\n",
        "    cv=5,               # Validación cruzada con 5 particiones\n",
        "    verbose=1,          # Mostrar progreso\n",
        "    n_jobs=-1           # Usar todos los núcleos disponibles\n",
        ")\n",
        "\n",
        "# Entrenar GridSearchCV\n",
        "grid_search.fit(X_train_scaled, y_train)\n",
        "\n",
        "# Mostrar los mejores hiperparámetros\n",
        "print(\"\\nMejores Hiperparámetros:\")\n",
        "print(grid_search.best_params_)\n",
        "\n",
        "# Evaluar el modelo optimizado\n",
        "best_rf_model = grid_search.best_estimator_\n",
        "y_pred_optimized = best_rf_model.predict(X_test_scaled)\n",
        "\n",
        "# Calcular métricas de evaluación\n",
        "mse_optimized = mean_squared_error(y_test, y_pred_optimized)\n",
        "rmse_optimized = np.sqrt(mse_optimized)\n",
        "r2_optimized = r2_score(y_test, y_pred_optimized)\n",
        "\n",
        "# Mostrar resultados del modelo optimizado\n",
        "print(\"\\nEvaluación del Modelo Optimizado:\")\n",
        "print(f\"  MSE: {mse_optimized:.2f}\")\n",
        "print(f\"  RMSE: {rmse_optimized:.2f}\")\n",
        "print(f\"  R²: {r2_optimized:.2f}\")\n"
      ],
      "metadata": {
        "colab": {
          "base_uri": "https://localhost:8080/"
        },
        "id": "SejqQrMgKh7I",
        "outputId": "244cf675-e9f8-4e36-8baa-3c40db5ec4d6"
      },
      "execution_count": 4,
      "outputs": [
        {
          "output_type": "stream",
          "name": "stdout",
          "text": [
            "Fitting 5 folds for each of 108 candidates, totalling 540 fits\n",
            "\n",
            "Mejores Hiperparámetros:\n",
            "{'max_depth': 20, 'min_samples_leaf': 1, 'min_samples_split': 2, 'n_estimators': 50}\n",
            "\n",
            "Evaluación del Modelo Optimizado:\n",
            "  MSE: 19842963.11\n",
            "  RMSE: 4454.54\n",
            "  R²: 0.40\n"
          ]
        }
      ]
    }
  ]
}